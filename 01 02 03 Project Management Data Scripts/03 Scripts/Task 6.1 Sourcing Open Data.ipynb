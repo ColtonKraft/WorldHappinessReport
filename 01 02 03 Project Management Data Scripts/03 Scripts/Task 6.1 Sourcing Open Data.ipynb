{
 "cells": [
  {
   "cell_type": "markdown",
   "id": "2270cdd5",
   "metadata": {},
   "source": [
    "# Contents\n",
    "01 Importing Libraries\n",
    "02 Joining Datasets Across Years (2015-2019)\n",
    "03 Consistency Checks\n",
    "04 Descriptive Statistics\n",
    "05 Exporting Cleaned & Combined Data Set"
   ]
  },
  {
   "cell_type": "markdown",
   "id": "56c78b0e",
   "metadata": {},
   "source": [
    "# 01 Importing Libraries"
   ]
  },
  {
   "cell_type": "code",
   "execution_count": 1,
   "id": "00012b79",
   "metadata": {},
   "outputs": [],
   "source": [
    "# importing libraries\n",
    "import pandas as pd\n",
    "import numpy as np\n",
    "import os"
   ]
  },
  {
   "cell_type": "code",
   "execution_count": 2,
   "id": "b177e176",
   "metadata": {},
   "outputs": [],
   "source": [
    "# Folder location string\n",
    "path = r'C:\\Users\\ckra9\\Documents\\CareerFoundry\\World Happiness Rankings'"
   ]
  },
  {
   "cell_type": "code",
   "execution_count": 3,
   "id": "1fe4da3b",
   "metadata": {},
   "outputs": [
    {
     "data": {
      "text/plain": [
       "'C:\\\\Users\\\\ckra9\\\\Documents\\\\CareerFoundry\\\\World Happiness Rankings'"
      ]
     },
     "execution_count": 3,
     "metadata": {},
     "output_type": "execute_result"
    }
   ],
   "source": [
    "path"
   ]
  },
  {
   "cell_type": "code",
   "execution_count": 4,
   "id": "afc4cd8d",
   "metadata": {},
   "outputs": [],
   "source": [
    "# Importing cleaned individual years as CSV files \n",
    "df_2015 = pd.read_csv(os.path.join(path, '02 Data', 'Prepared Data', '2015_clean.csv'), index_col = False)"
   ]
  },
  {
   "cell_type": "code",
   "execution_count": 5,
   "id": "772f674b",
   "metadata": {},
   "outputs": [],
   "source": [
    "df_2016 = pd.read_csv(os.path.join(path, '02 Data', 'Prepared Data', '2016_clean.csv'), index_col = False)"
   ]
  },
  {
   "cell_type": "code",
   "execution_count": 6,
   "id": "8f710d4a",
   "metadata": {},
   "outputs": [],
   "source": [
    "df_2017 = pd.read_csv(os.path.join(path, '02 Data', 'Prepared Data', '2017_clean.csv'), index_col = False)"
   ]
  },
  {
   "cell_type": "code",
   "execution_count": 7,
   "id": "4c688a57",
   "metadata": {},
   "outputs": [],
   "source": [
    "df_2018 = pd.read_csv(os.path.join(path, '02 Data', 'Prepared Data', '2018_clean.csv'), index_col = False)"
   ]
  },
  {
   "cell_type": "code",
   "execution_count": 8,
   "id": "f6a89b35",
   "metadata": {},
   "outputs": [],
   "source": [
    "df_2019 = pd.read_csv(os.path.join(path, '02 Data', 'Prepared Data', '2019_clean.csv'), index_col = False)"
   ]
  },
  {
   "cell_type": "code",
   "execution_count": 9,
   "id": "1ef1af4b",
   "metadata": {},
   "outputs": [
    {
     "data": {
      "text/html": [
       "<div>\n",
       "<style scoped>\n",
       "    .dataframe tbody tr th:only-of-type {\n",
       "        vertical-align: middle;\n",
       "    }\n",
       "\n",
       "    .dataframe tbody tr th {\n",
       "        vertical-align: top;\n",
       "    }\n",
       "\n",
       "    .dataframe thead th {\n",
       "        text-align: right;\n",
       "    }\n",
       "</style>\n",
       "<table border=\"1\" class=\"dataframe\">\n",
       "  <thead>\n",
       "    <tr style=\"text-align: right;\">\n",
       "      <th></th>\n",
       "      <th>Year</th>\n",
       "      <th>Happiness_rank</th>\n",
       "      <th>Happiness_score</th>\n",
       "      <th>GDP_capita</th>\n",
       "      <th>Family</th>\n",
       "      <th>Life_expectancy</th>\n",
       "      <th>Freedom</th>\n",
       "      <th>Gov_trust</th>\n",
       "      <th>Generosity</th>\n",
       "      <th>Dystopia_residual</th>\n",
       "    </tr>\n",
       "  </thead>\n",
       "  <tbody>\n",
       "    <tr>\n",
       "      <th>count</th>\n",
       "      <td>158.0</td>\n",
       "      <td>158.000000</td>\n",
       "      <td>158.000000</td>\n",
       "      <td>158.000000</td>\n",
       "      <td>158.000000</td>\n",
       "      <td>158.000000</td>\n",
       "      <td>158.000000</td>\n",
       "      <td>158.000000</td>\n",
       "      <td>158.000000</td>\n",
       "      <td>158.000000</td>\n",
       "    </tr>\n",
       "    <tr>\n",
       "      <th>mean</th>\n",
       "      <td>2015.0</td>\n",
       "      <td>79.493671</td>\n",
       "      <td>5.375734</td>\n",
       "      <td>0.846137</td>\n",
       "      <td>0.991046</td>\n",
       "      <td>0.630259</td>\n",
       "      <td>0.428615</td>\n",
       "      <td>0.143422</td>\n",
       "      <td>0.237296</td>\n",
       "      <td>2.098977</td>\n",
       "    </tr>\n",
       "    <tr>\n",
       "      <th>std</th>\n",
       "      <td>0.0</td>\n",
       "      <td>45.754363</td>\n",
       "      <td>1.145010</td>\n",
       "      <td>0.403121</td>\n",
       "      <td>0.272369</td>\n",
       "      <td>0.247078</td>\n",
       "      <td>0.150693</td>\n",
       "      <td>0.120034</td>\n",
       "      <td>0.126685</td>\n",
       "      <td>0.553550</td>\n",
       "    </tr>\n",
       "    <tr>\n",
       "      <th>min</th>\n",
       "      <td>2015.0</td>\n",
       "      <td>1.000000</td>\n",
       "      <td>2.839000</td>\n",
       "      <td>0.000000</td>\n",
       "      <td>0.000000</td>\n",
       "      <td>0.000000</td>\n",
       "      <td>0.000000</td>\n",
       "      <td>0.000000</td>\n",
       "      <td>0.000000</td>\n",
       "      <td>0.328580</td>\n",
       "    </tr>\n",
       "    <tr>\n",
       "      <th>25%</th>\n",
       "      <td>2015.0</td>\n",
       "      <td>40.250000</td>\n",
       "      <td>4.526000</td>\n",
       "      <td>0.545808</td>\n",
       "      <td>0.856823</td>\n",
       "      <td>0.439185</td>\n",
       "      <td>0.328330</td>\n",
       "      <td>0.061675</td>\n",
       "      <td>0.150553</td>\n",
       "      <td>1.759410</td>\n",
       "    </tr>\n",
       "    <tr>\n",
       "      <th>50%</th>\n",
       "      <td>2015.0</td>\n",
       "      <td>79.500000</td>\n",
       "      <td>5.232500</td>\n",
       "      <td>0.910245</td>\n",
       "      <td>1.029510</td>\n",
       "      <td>0.696705</td>\n",
       "      <td>0.435515</td>\n",
       "      <td>0.107220</td>\n",
       "      <td>0.216130</td>\n",
       "      <td>2.095415</td>\n",
       "    </tr>\n",
       "    <tr>\n",
       "      <th>75%</th>\n",
       "      <td>2015.0</td>\n",
       "      <td>118.750000</td>\n",
       "      <td>6.243750</td>\n",
       "      <td>1.158448</td>\n",
       "      <td>1.214405</td>\n",
       "      <td>0.811013</td>\n",
       "      <td>0.549092</td>\n",
       "      <td>0.180255</td>\n",
       "      <td>0.309883</td>\n",
       "      <td>2.462415</td>\n",
       "    </tr>\n",
       "    <tr>\n",
       "      <th>max</th>\n",
       "      <td>2015.0</td>\n",
       "      <td>158.000000</td>\n",
       "      <td>7.587000</td>\n",
       "      <td>1.690420</td>\n",
       "      <td>1.402230</td>\n",
       "      <td>1.025250</td>\n",
       "      <td>0.669730</td>\n",
       "      <td>0.551910</td>\n",
       "      <td>0.795880</td>\n",
       "      <td>3.602140</td>\n",
       "    </tr>\n",
       "  </tbody>\n",
       "</table>\n",
       "</div>"
      ],
      "text/plain": [
       "         Year  Happiness_rank  Happiness_score  GDP_capita      Family  \\\n",
       "count   158.0      158.000000       158.000000  158.000000  158.000000   \n",
       "mean   2015.0       79.493671         5.375734    0.846137    0.991046   \n",
       "std       0.0       45.754363         1.145010    0.403121    0.272369   \n",
       "min    2015.0        1.000000         2.839000    0.000000    0.000000   \n",
       "25%    2015.0       40.250000         4.526000    0.545808    0.856823   \n",
       "50%    2015.0       79.500000         5.232500    0.910245    1.029510   \n",
       "75%    2015.0      118.750000         6.243750    1.158448    1.214405   \n",
       "max    2015.0      158.000000         7.587000    1.690420    1.402230   \n",
       "\n",
       "       Life_expectancy     Freedom   Gov_trust  Generosity  Dystopia_residual  \n",
       "count       158.000000  158.000000  158.000000  158.000000         158.000000  \n",
       "mean          0.630259    0.428615    0.143422    0.237296           2.098977  \n",
       "std           0.247078    0.150693    0.120034    0.126685           0.553550  \n",
       "min           0.000000    0.000000    0.000000    0.000000           0.328580  \n",
       "25%           0.439185    0.328330    0.061675    0.150553           1.759410  \n",
       "50%           0.696705    0.435515    0.107220    0.216130           2.095415  \n",
       "75%           0.811013    0.549092    0.180255    0.309883           2.462415  \n",
       "max           1.025250    0.669730    0.551910    0.795880           3.602140  "
      ]
     },
     "execution_count": 9,
     "metadata": {},
     "output_type": "execute_result"
    }
   ],
   "source": [
    "df_2015.describe()"
   ]
  },
  {
   "cell_type": "markdown",
   "id": "f15c6a7d",
   "metadata": {},
   "source": [
    "# 02 Joining Datasets Across Years (2015-2019)"
   ]
  },
  {
   "cell_type": "code",
   "execution_count": 10,
   "id": "5a8a3ec2",
   "metadata": {},
   "outputs": [
    {
     "data": {
      "text/plain": [
       "(158, 12)"
      ]
     },
     "execution_count": 10,
     "metadata": {},
     "output_type": "execute_result"
    }
   ],
   "source": [
    "df_2015.shape"
   ]
  },
  {
   "cell_type": "code",
   "execution_count": 11,
   "id": "950eb02f",
   "metadata": {},
   "outputs": [
    {
     "data": {
      "text/plain": [
       "(157, 12)"
      ]
     },
     "execution_count": 11,
     "metadata": {},
     "output_type": "execute_result"
    }
   ],
   "source": [
    "df_2016.shape"
   ]
  },
  {
   "cell_type": "code",
   "execution_count": 12,
   "id": "9aac5f76",
   "metadata": {},
   "outputs": [],
   "source": [
    "# Joining 2015 and 2016\n",
    "df_2015_2016 = pd.merge(df_2015, df_2016, how='outer', on=['Country', 'Region', 'Year', 'Happiness_rank', 'Happiness_score', 'GDP_capita', 'Family', 'Life_expectancy', 'Freedom', 'Gov_trust', 'Generosity', 'Dystopia_residual'])"
   ]
  },
  {
   "cell_type": "code",
   "execution_count": 13,
   "id": "8e72cbbb",
   "metadata": {},
   "outputs": [
    {
     "data": {
      "text/plain": [
       "(315, 12)"
      ]
     },
     "execution_count": 13,
     "metadata": {},
     "output_type": "execute_result"
    }
   ],
   "source": [
    "df_2015_2016.shape"
   ]
  },
  {
   "cell_type": "code",
   "execution_count": 14,
   "id": "04d82f9f",
   "metadata": {},
   "outputs": [
    {
     "data": {
      "text/html": [
       "<div>\n",
       "<style scoped>\n",
       "    .dataframe tbody tr th:only-of-type {\n",
       "        vertical-align: middle;\n",
       "    }\n",
       "\n",
       "    .dataframe tbody tr th {\n",
       "        vertical-align: top;\n",
       "    }\n",
       "\n",
       "    .dataframe thead th {\n",
       "        text-align: right;\n",
       "    }\n",
       "</style>\n",
       "<table border=\"1\" class=\"dataframe\">\n",
       "  <thead>\n",
       "    <tr style=\"text-align: right;\">\n",
       "      <th></th>\n",
       "      <th>Country</th>\n",
       "      <th>Region</th>\n",
       "      <th>Year</th>\n",
       "      <th>Happiness_rank</th>\n",
       "      <th>Happiness_score</th>\n",
       "      <th>GDP_capita</th>\n",
       "      <th>Family</th>\n",
       "      <th>Life_expectancy</th>\n",
       "      <th>Freedom</th>\n",
       "      <th>Gov_trust</th>\n",
       "      <th>Generosity</th>\n",
       "      <th>Dystopia_residual</th>\n",
       "    </tr>\n",
       "  </thead>\n",
       "  <tbody>\n",
       "    <tr>\n",
       "      <th>0</th>\n",
       "      <td>Afghanistan</td>\n",
       "      <td>Southern Asia</td>\n",
       "      <td>2015</td>\n",
       "      <td>153</td>\n",
       "      <td>3.575</td>\n",
       "      <td>0.31982</td>\n",
       "      <td>0.30285</td>\n",
       "      <td>0.30335</td>\n",
       "      <td>0.23414</td>\n",
       "      <td>0.09719</td>\n",
       "      <td>0.36510</td>\n",
       "      <td>1.95210</td>\n",
       "    </tr>\n",
       "    <tr>\n",
       "      <th>1</th>\n",
       "      <td>Albania</td>\n",
       "      <td>Central and Eastern Europe</td>\n",
       "      <td>2015</td>\n",
       "      <td>95</td>\n",
       "      <td>4.959</td>\n",
       "      <td>0.87867</td>\n",
       "      <td>0.80434</td>\n",
       "      <td>0.81325</td>\n",
       "      <td>0.35733</td>\n",
       "      <td>0.06413</td>\n",
       "      <td>0.14272</td>\n",
       "      <td>1.89894</td>\n",
       "    </tr>\n",
       "    <tr>\n",
       "      <th>2</th>\n",
       "      <td>Algeria</td>\n",
       "      <td>Middle East and Northern Africa</td>\n",
       "      <td>2015</td>\n",
       "      <td>68</td>\n",
       "      <td>5.605</td>\n",
       "      <td>0.93929</td>\n",
       "      <td>1.07772</td>\n",
       "      <td>0.61766</td>\n",
       "      <td>0.28579</td>\n",
       "      <td>0.17383</td>\n",
       "      <td>0.07822</td>\n",
       "      <td>2.43209</td>\n",
       "    </tr>\n",
       "    <tr>\n",
       "      <th>3</th>\n",
       "      <td>Angola</td>\n",
       "      <td>Sub-Saharan Africa</td>\n",
       "      <td>2015</td>\n",
       "      <td>137</td>\n",
       "      <td>4.033</td>\n",
       "      <td>0.75778</td>\n",
       "      <td>0.86040</td>\n",
       "      <td>0.16683</td>\n",
       "      <td>0.10384</td>\n",
       "      <td>0.07122</td>\n",
       "      <td>0.12344</td>\n",
       "      <td>1.94939</td>\n",
       "    </tr>\n",
       "    <tr>\n",
       "      <th>4</th>\n",
       "      <td>Argentina</td>\n",
       "      <td>Latin America and Caribbean</td>\n",
       "      <td>2015</td>\n",
       "      <td>30</td>\n",
       "      <td>6.574</td>\n",
       "      <td>1.05351</td>\n",
       "      <td>1.24823</td>\n",
       "      <td>0.78723</td>\n",
       "      <td>0.44974</td>\n",
       "      <td>0.08484</td>\n",
       "      <td>0.11451</td>\n",
       "      <td>2.83600</td>\n",
       "    </tr>\n",
       "  </tbody>\n",
       "</table>\n",
       "</div>"
      ],
      "text/plain": [
       "       Country                           Region  Year  Happiness_rank  \\\n",
       "0  Afghanistan                    Southern Asia  2015             153   \n",
       "1      Albania       Central and Eastern Europe  2015              95   \n",
       "2      Algeria  Middle East and Northern Africa  2015              68   \n",
       "3       Angola               Sub-Saharan Africa  2015             137   \n",
       "4    Argentina      Latin America and Caribbean  2015              30   \n",
       "\n",
       "   Happiness_score  GDP_capita   Family  Life_expectancy  Freedom  Gov_trust  \\\n",
       "0            3.575     0.31982  0.30285          0.30335  0.23414    0.09719   \n",
       "1            4.959     0.87867  0.80434          0.81325  0.35733    0.06413   \n",
       "2            5.605     0.93929  1.07772          0.61766  0.28579    0.17383   \n",
       "3            4.033     0.75778  0.86040          0.16683  0.10384    0.07122   \n",
       "4            6.574     1.05351  1.24823          0.78723  0.44974    0.08484   \n",
       "\n",
       "   Generosity  Dystopia_residual  \n",
       "0     0.36510            1.95210  \n",
       "1     0.14272            1.89894  \n",
       "2     0.07822            2.43209  \n",
       "3     0.12344            1.94939  \n",
       "4     0.11451            2.83600  "
      ]
     },
     "execution_count": 14,
     "metadata": {},
     "output_type": "execute_result"
    }
   ],
   "source": [
    "df_2015_2016.head()\n"
   ]
  },
  {
   "cell_type": "code",
   "execution_count": 15,
   "id": "147c765a",
   "metadata": {},
   "outputs": [
    {
     "data": {
      "text/plain": [
       "(155, 12)"
      ]
     },
     "execution_count": 15,
     "metadata": {},
     "output_type": "execute_result"
    }
   ],
   "source": [
    "df_2017.shape"
   ]
  },
  {
   "cell_type": "code",
   "execution_count": 16,
   "id": "edd64dcc",
   "metadata": {},
   "outputs": [],
   "source": [
    "# Joining (15-16) with 2017\n",
    "df_15_16_17 = pd.merge(df_2015_2016, df_2017, how='outer', on=['Country', 'Region', 'Year', 'Happiness_rank', 'Happiness_score', 'GDP_capita', 'Family', 'Life_expectancy', 'Freedom', 'Gov_trust', 'Generosity', 'Dystopia_residual'])"
   ]
  },
  {
   "cell_type": "code",
   "execution_count": 17,
   "id": "dbef8707",
   "metadata": {},
   "outputs": [
    {
     "data": {
      "text/plain": [
       "(470, 12)"
      ]
     },
     "execution_count": 17,
     "metadata": {},
     "output_type": "execute_result"
    }
   ],
   "source": [
    "df_15_16_17.shape"
   ]
  },
  {
   "cell_type": "code",
   "execution_count": 18,
   "id": "2fab6251",
   "metadata": {},
   "outputs": [
    {
     "data": {
      "text/html": [
       "<div>\n",
       "<style scoped>\n",
       "    .dataframe tbody tr th:only-of-type {\n",
       "        vertical-align: middle;\n",
       "    }\n",
       "\n",
       "    .dataframe tbody tr th {\n",
       "        vertical-align: top;\n",
       "    }\n",
       "\n",
       "    .dataframe thead th {\n",
       "        text-align: right;\n",
       "    }\n",
       "</style>\n",
       "<table border=\"1\" class=\"dataframe\">\n",
       "  <thead>\n",
       "    <tr style=\"text-align: right;\">\n",
       "      <th></th>\n",
       "      <th>Country</th>\n",
       "      <th>Region</th>\n",
       "      <th>Year</th>\n",
       "      <th>Happiness_rank</th>\n",
       "      <th>Happiness_score</th>\n",
       "      <th>GDP_capita</th>\n",
       "      <th>Family</th>\n",
       "      <th>Life_expectancy</th>\n",
       "      <th>Freedom</th>\n",
       "      <th>Gov_trust</th>\n",
       "      <th>Generosity</th>\n",
       "      <th>Dystopia_residual</th>\n",
       "    </tr>\n",
       "  </thead>\n",
       "  <tbody>\n",
       "    <tr>\n",
       "      <th>0</th>\n",
       "      <td>Afghanistan</td>\n",
       "      <td>Southern Asia</td>\n",
       "      <td>2015</td>\n",
       "      <td>153</td>\n",
       "      <td>3.575</td>\n",
       "      <td>0.31982</td>\n",
       "      <td>0.30285</td>\n",
       "      <td>0.30335</td>\n",
       "      <td>0.23414</td>\n",
       "      <td>0.09719</td>\n",
       "      <td>0.36510</td>\n",
       "      <td>1.95210</td>\n",
       "    </tr>\n",
       "    <tr>\n",
       "      <th>1</th>\n",
       "      <td>Albania</td>\n",
       "      <td>Central and Eastern Europe</td>\n",
       "      <td>2015</td>\n",
       "      <td>95</td>\n",
       "      <td>4.959</td>\n",
       "      <td>0.87867</td>\n",
       "      <td>0.80434</td>\n",
       "      <td>0.81325</td>\n",
       "      <td>0.35733</td>\n",
       "      <td>0.06413</td>\n",
       "      <td>0.14272</td>\n",
       "      <td>1.89894</td>\n",
       "    </tr>\n",
       "    <tr>\n",
       "      <th>2</th>\n",
       "      <td>Algeria</td>\n",
       "      <td>Middle East and Northern Africa</td>\n",
       "      <td>2015</td>\n",
       "      <td>68</td>\n",
       "      <td>5.605</td>\n",
       "      <td>0.93929</td>\n",
       "      <td>1.07772</td>\n",
       "      <td>0.61766</td>\n",
       "      <td>0.28579</td>\n",
       "      <td>0.17383</td>\n",
       "      <td>0.07822</td>\n",
       "      <td>2.43209</td>\n",
       "    </tr>\n",
       "    <tr>\n",
       "      <th>3</th>\n",
       "      <td>Angola</td>\n",
       "      <td>Sub-Saharan Africa</td>\n",
       "      <td>2015</td>\n",
       "      <td>137</td>\n",
       "      <td>4.033</td>\n",
       "      <td>0.75778</td>\n",
       "      <td>0.86040</td>\n",
       "      <td>0.16683</td>\n",
       "      <td>0.10384</td>\n",
       "      <td>0.07122</td>\n",
       "      <td>0.12344</td>\n",
       "      <td>1.94939</td>\n",
       "    </tr>\n",
       "    <tr>\n",
       "      <th>4</th>\n",
       "      <td>Argentina</td>\n",
       "      <td>Latin America and Caribbean</td>\n",
       "      <td>2015</td>\n",
       "      <td>30</td>\n",
       "      <td>6.574</td>\n",
       "      <td>1.05351</td>\n",
       "      <td>1.24823</td>\n",
       "      <td>0.78723</td>\n",
       "      <td>0.44974</td>\n",
       "      <td>0.08484</td>\n",
       "      <td>0.11451</td>\n",
       "      <td>2.83600</td>\n",
       "    </tr>\n",
       "  </tbody>\n",
       "</table>\n",
       "</div>"
      ],
      "text/plain": [
       "       Country                           Region  Year  Happiness_rank  \\\n",
       "0  Afghanistan                    Southern Asia  2015             153   \n",
       "1      Albania       Central and Eastern Europe  2015              95   \n",
       "2      Algeria  Middle East and Northern Africa  2015              68   \n",
       "3       Angola               Sub-Saharan Africa  2015             137   \n",
       "4    Argentina      Latin America and Caribbean  2015              30   \n",
       "\n",
       "   Happiness_score  GDP_capita   Family  Life_expectancy  Freedom  Gov_trust  \\\n",
       "0            3.575     0.31982  0.30285          0.30335  0.23414    0.09719   \n",
       "1            4.959     0.87867  0.80434          0.81325  0.35733    0.06413   \n",
       "2            5.605     0.93929  1.07772          0.61766  0.28579    0.17383   \n",
       "3            4.033     0.75778  0.86040          0.16683  0.10384    0.07122   \n",
       "4            6.574     1.05351  1.24823          0.78723  0.44974    0.08484   \n",
       "\n",
       "   Generosity  Dystopia_residual  \n",
       "0     0.36510            1.95210  \n",
       "1     0.14272            1.89894  \n",
       "2     0.07822            2.43209  \n",
       "3     0.12344            1.94939  \n",
       "4     0.11451            2.83600  "
      ]
     },
     "execution_count": 18,
     "metadata": {},
     "output_type": "execute_result"
    }
   ],
   "source": [
    "df_15_16_17.head()"
   ]
  },
  {
   "cell_type": "code",
   "execution_count": 19,
   "id": "0ae46572",
   "metadata": {},
   "outputs": [
    {
     "data": {
      "text/plain": [
       "(156, 11)"
      ]
     },
     "execution_count": 19,
     "metadata": {},
     "output_type": "execute_result"
    }
   ],
   "source": [
    "df_2018.shape"
   ]
  },
  {
   "cell_type": "code",
   "execution_count": 20,
   "id": "6f17a326",
   "metadata": {},
   "outputs": [],
   "source": [
    "# Joining (15-17) with 2018\n",
    "df_15_16_17_18 = pd.merge(df_15_16_17, df_2018, how='outer', on=['Country', 'Region', 'Year', 'Happiness_rank', 'Happiness_score', 'GDP_capita', 'Family', 'Life_expectancy', 'Freedom', 'Gov_trust', 'Generosity'])"
   ]
  },
  {
   "cell_type": "code",
   "execution_count": 21,
   "id": "5b81e5b7",
   "metadata": {},
   "outputs": [
    {
     "data": {
      "text/plain": [
       "(626, 12)"
      ]
     },
     "execution_count": 21,
     "metadata": {},
     "output_type": "execute_result"
    }
   ],
   "source": [
    "df_15_16_17_18.shape"
   ]
  },
  {
   "cell_type": "code",
   "execution_count": 22,
   "id": "b4e346d6",
   "metadata": {},
   "outputs": [
    {
     "data": {
      "text/html": [
       "<div>\n",
       "<style scoped>\n",
       "    .dataframe tbody tr th:only-of-type {\n",
       "        vertical-align: middle;\n",
       "    }\n",
       "\n",
       "    .dataframe tbody tr th {\n",
       "        vertical-align: top;\n",
       "    }\n",
       "\n",
       "    .dataframe thead th {\n",
       "        text-align: right;\n",
       "    }\n",
       "</style>\n",
       "<table border=\"1\" class=\"dataframe\">\n",
       "  <thead>\n",
       "    <tr style=\"text-align: right;\">\n",
       "      <th></th>\n",
       "      <th>Country</th>\n",
       "      <th>Region</th>\n",
       "      <th>Year</th>\n",
       "      <th>Happiness_rank</th>\n",
       "      <th>Happiness_score</th>\n",
       "      <th>GDP_capita</th>\n",
       "      <th>Family</th>\n",
       "      <th>Life_expectancy</th>\n",
       "      <th>Freedom</th>\n",
       "      <th>Gov_trust</th>\n",
       "      <th>Generosity</th>\n",
       "      <th>Dystopia_residual</th>\n",
       "    </tr>\n",
       "  </thead>\n",
       "  <tbody>\n",
       "    <tr>\n",
       "      <th>0</th>\n",
       "      <td>Afghanistan</td>\n",
       "      <td>Southern Asia</td>\n",
       "      <td>2015</td>\n",
       "      <td>153</td>\n",
       "      <td>3.575</td>\n",
       "      <td>0.31982</td>\n",
       "      <td>0.30285</td>\n",
       "      <td>0.30335</td>\n",
       "      <td>0.23414</td>\n",
       "      <td>0.09719</td>\n",
       "      <td>0.36510</td>\n",
       "      <td>1.95210</td>\n",
       "    </tr>\n",
       "    <tr>\n",
       "      <th>1</th>\n",
       "      <td>Albania</td>\n",
       "      <td>Central and Eastern Europe</td>\n",
       "      <td>2015</td>\n",
       "      <td>95</td>\n",
       "      <td>4.959</td>\n",
       "      <td>0.87867</td>\n",
       "      <td>0.80434</td>\n",
       "      <td>0.81325</td>\n",
       "      <td>0.35733</td>\n",
       "      <td>0.06413</td>\n",
       "      <td>0.14272</td>\n",
       "      <td>1.89894</td>\n",
       "    </tr>\n",
       "    <tr>\n",
       "      <th>2</th>\n",
       "      <td>Algeria</td>\n",
       "      <td>Middle East and Northern Africa</td>\n",
       "      <td>2015</td>\n",
       "      <td>68</td>\n",
       "      <td>5.605</td>\n",
       "      <td>0.93929</td>\n",
       "      <td>1.07772</td>\n",
       "      <td>0.61766</td>\n",
       "      <td>0.28579</td>\n",
       "      <td>0.17383</td>\n",
       "      <td>0.07822</td>\n",
       "      <td>2.43209</td>\n",
       "    </tr>\n",
       "    <tr>\n",
       "      <th>3</th>\n",
       "      <td>Angola</td>\n",
       "      <td>Sub-Saharan Africa</td>\n",
       "      <td>2015</td>\n",
       "      <td>137</td>\n",
       "      <td>4.033</td>\n",
       "      <td>0.75778</td>\n",
       "      <td>0.86040</td>\n",
       "      <td>0.16683</td>\n",
       "      <td>0.10384</td>\n",
       "      <td>0.07122</td>\n",
       "      <td>0.12344</td>\n",
       "      <td>1.94939</td>\n",
       "    </tr>\n",
       "    <tr>\n",
       "      <th>4</th>\n",
       "      <td>Argentina</td>\n",
       "      <td>Latin America and Caribbean</td>\n",
       "      <td>2015</td>\n",
       "      <td>30</td>\n",
       "      <td>6.574</td>\n",
       "      <td>1.05351</td>\n",
       "      <td>1.24823</td>\n",
       "      <td>0.78723</td>\n",
       "      <td>0.44974</td>\n",
       "      <td>0.08484</td>\n",
       "      <td>0.11451</td>\n",
       "      <td>2.83600</td>\n",
       "    </tr>\n",
       "  </tbody>\n",
       "</table>\n",
       "</div>"
      ],
      "text/plain": [
       "       Country                           Region  Year  Happiness_rank  \\\n",
       "0  Afghanistan                    Southern Asia  2015             153   \n",
       "1      Albania       Central and Eastern Europe  2015              95   \n",
       "2      Algeria  Middle East and Northern Africa  2015              68   \n",
       "3       Angola               Sub-Saharan Africa  2015             137   \n",
       "4    Argentina      Latin America and Caribbean  2015              30   \n",
       "\n",
       "   Happiness_score  GDP_capita   Family  Life_expectancy  Freedom  Gov_trust  \\\n",
       "0            3.575     0.31982  0.30285          0.30335  0.23414    0.09719   \n",
       "1            4.959     0.87867  0.80434          0.81325  0.35733    0.06413   \n",
       "2            5.605     0.93929  1.07772          0.61766  0.28579    0.17383   \n",
       "3            4.033     0.75778  0.86040          0.16683  0.10384    0.07122   \n",
       "4            6.574     1.05351  1.24823          0.78723  0.44974    0.08484   \n",
       "\n",
       "   Generosity  Dystopia_residual  \n",
       "0     0.36510            1.95210  \n",
       "1     0.14272            1.89894  \n",
       "2     0.07822            2.43209  \n",
       "3     0.12344            1.94939  \n",
       "4     0.11451            2.83600  "
      ]
     },
     "execution_count": 22,
     "metadata": {},
     "output_type": "execute_result"
    }
   ],
   "source": [
    "df_15_16_17_18.head()"
   ]
  },
  {
   "cell_type": "code",
   "execution_count": 23,
   "id": "93ab9659",
   "metadata": {},
   "outputs": [
    {
     "data": {
      "text/html": [
       "<div>\n",
       "<style scoped>\n",
       "    .dataframe tbody tr th:only-of-type {\n",
       "        vertical-align: middle;\n",
       "    }\n",
       "\n",
       "    .dataframe tbody tr th {\n",
       "        vertical-align: top;\n",
       "    }\n",
       "\n",
       "    .dataframe thead th {\n",
       "        text-align: right;\n",
       "    }\n",
       "</style>\n",
       "<table border=\"1\" class=\"dataframe\">\n",
       "  <thead>\n",
       "    <tr style=\"text-align: right;\">\n",
       "      <th></th>\n",
       "      <th>Country</th>\n",
       "      <th>Region</th>\n",
       "      <th>Year</th>\n",
       "      <th>Happiness_rank</th>\n",
       "      <th>Happiness_score</th>\n",
       "      <th>GDP_capita</th>\n",
       "      <th>Family</th>\n",
       "      <th>Life_expectancy</th>\n",
       "      <th>Freedom</th>\n",
       "      <th>Gov_trust</th>\n",
       "      <th>Generosity</th>\n",
       "      <th>Dystopia_residual</th>\n",
       "    </tr>\n",
       "  </thead>\n",
       "  <tbody>\n",
       "    <tr>\n",
       "      <th>621</th>\n",
       "      <td>Venezuela</td>\n",
       "      <td>Latin America and Caribbean</td>\n",
       "      <td>2018</td>\n",
       "      <td>102</td>\n",
       "      <td>4.806</td>\n",
       "      <td>0.996</td>\n",
       "      <td>1.469</td>\n",
       "      <td>0.657</td>\n",
       "      <td>0.133</td>\n",
       "      <td>0.052</td>\n",
       "      <td>0.056</td>\n",
       "      <td>NaN</td>\n",
       "    </tr>\n",
       "    <tr>\n",
       "      <th>622</th>\n",
       "      <td>Vietnam</td>\n",
       "      <td>Southeastern Asia</td>\n",
       "      <td>2018</td>\n",
       "      <td>95</td>\n",
       "      <td>5.103</td>\n",
       "      <td>0.715</td>\n",
       "      <td>1.365</td>\n",
       "      <td>0.702</td>\n",
       "      <td>0.618</td>\n",
       "      <td>0.079</td>\n",
       "      <td>0.177</td>\n",
       "      <td>NaN</td>\n",
       "    </tr>\n",
       "    <tr>\n",
       "      <th>623</th>\n",
       "      <td>Yemen</td>\n",
       "      <td>Middle East and Northern Africa</td>\n",
       "      <td>2018</td>\n",
       "      <td>152</td>\n",
       "      <td>3.355</td>\n",
       "      <td>0.442</td>\n",
       "      <td>1.073</td>\n",
       "      <td>0.343</td>\n",
       "      <td>0.244</td>\n",
       "      <td>0.064</td>\n",
       "      <td>0.083</td>\n",
       "      <td>NaN</td>\n",
       "    </tr>\n",
       "    <tr>\n",
       "      <th>624</th>\n",
       "      <td>Zambia</td>\n",
       "      <td>Sub-Saharan Africa</td>\n",
       "      <td>2018</td>\n",
       "      <td>125</td>\n",
       "      <td>4.377</td>\n",
       "      <td>0.562</td>\n",
       "      <td>1.047</td>\n",
       "      <td>0.295</td>\n",
       "      <td>0.503</td>\n",
       "      <td>0.082</td>\n",
       "      <td>0.221</td>\n",
       "      <td>NaN</td>\n",
       "    </tr>\n",
       "    <tr>\n",
       "      <th>625</th>\n",
       "      <td>Zimbabwe</td>\n",
       "      <td>Sub-Saharan Africa</td>\n",
       "      <td>2018</td>\n",
       "      <td>144</td>\n",
       "      <td>3.692</td>\n",
       "      <td>0.357</td>\n",
       "      <td>1.094</td>\n",
       "      <td>0.248</td>\n",
       "      <td>0.406</td>\n",
       "      <td>0.099</td>\n",
       "      <td>0.132</td>\n",
       "      <td>NaN</td>\n",
       "    </tr>\n",
       "  </tbody>\n",
       "</table>\n",
       "</div>"
      ],
      "text/plain": [
       "       Country                           Region  Year  Happiness_rank  \\\n",
       "621  Venezuela      Latin America and Caribbean  2018             102   \n",
       "622    Vietnam                Southeastern Asia  2018              95   \n",
       "623      Yemen  Middle East and Northern Africa  2018             152   \n",
       "624     Zambia               Sub-Saharan Africa  2018             125   \n",
       "625   Zimbabwe               Sub-Saharan Africa  2018             144   \n",
       "\n",
       "     Happiness_score  GDP_capita  Family  Life_expectancy  Freedom  Gov_trust  \\\n",
       "621            4.806       0.996   1.469            0.657    0.133      0.052   \n",
       "622            5.103       0.715   1.365            0.702    0.618      0.079   \n",
       "623            3.355       0.442   1.073            0.343    0.244      0.064   \n",
       "624            4.377       0.562   1.047            0.295    0.503      0.082   \n",
       "625            3.692       0.357   1.094            0.248    0.406      0.099   \n",
       "\n",
       "     Generosity  Dystopia_residual  \n",
       "621       0.056                NaN  \n",
       "622       0.177                NaN  \n",
       "623       0.083                NaN  \n",
       "624       0.221                NaN  \n",
       "625       0.132                NaN  "
      ]
     },
     "execution_count": 23,
     "metadata": {},
     "output_type": "execute_result"
    }
   ],
   "source": [
    "df_15_16_17_18.tail()"
   ]
  },
  {
   "cell_type": "code",
   "execution_count": 24,
   "id": "59d7720d",
   "metadata": {},
   "outputs": [],
   "source": [
    "# Joining (15-18) with 2019\n",
    "happiness_merge_all_years = pd.merge(df_15_16_17_18, df_2019, how='outer', on=['Country', 'Region', 'Year', 'Happiness_rank', 'Happiness_score', 'GDP_capita', 'Family', 'Life_expectancy', 'Freedom', 'Gov_trust', 'Generosity'])"
   ]
  },
  {
   "cell_type": "code",
   "execution_count": 25,
   "id": "9bc522eb",
   "metadata": {},
   "outputs": [
    {
     "data": {
      "text/plain": [
       "(782, 12)"
      ]
     },
     "execution_count": 25,
     "metadata": {},
     "output_type": "execute_result"
    }
   ],
   "source": [
    "happiness_merge_all_years.shape"
   ]
  },
  {
   "cell_type": "code",
   "execution_count": 26,
   "id": "aa4e52d1",
   "metadata": {},
   "outputs": [
    {
     "data": {
      "text/plain": [
       "(156, 11)"
      ]
     },
     "execution_count": 26,
     "metadata": {},
     "output_type": "execute_result"
    }
   ],
   "source": [
    "df_2019.shape"
   ]
  },
  {
   "cell_type": "code",
   "execution_count": 27,
   "id": "1c1e8082",
   "metadata": {},
   "outputs": [
    {
     "data": {
      "text/html": [
       "<div>\n",
       "<style scoped>\n",
       "    .dataframe tbody tr th:only-of-type {\n",
       "        vertical-align: middle;\n",
       "    }\n",
       "\n",
       "    .dataframe tbody tr th {\n",
       "        vertical-align: top;\n",
       "    }\n",
       "\n",
       "    .dataframe thead th {\n",
       "        text-align: right;\n",
       "    }\n",
       "</style>\n",
       "<table border=\"1\" class=\"dataframe\">\n",
       "  <thead>\n",
       "    <tr style=\"text-align: right;\">\n",
       "      <th></th>\n",
       "      <th>Country</th>\n",
       "      <th>Region</th>\n",
       "      <th>Year</th>\n",
       "      <th>Happiness_rank</th>\n",
       "      <th>Happiness_score</th>\n",
       "      <th>GDP_capita</th>\n",
       "      <th>Family</th>\n",
       "      <th>Life_expectancy</th>\n",
       "      <th>Freedom</th>\n",
       "      <th>Gov_trust</th>\n",
       "      <th>Generosity</th>\n",
       "      <th>Dystopia_residual</th>\n",
       "    </tr>\n",
       "  </thead>\n",
       "  <tbody>\n",
       "    <tr>\n",
       "      <th>0</th>\n",
       "      <td>Afghanistan</td>\n",
       "      <td>Southern Asia</td>\n",
       "      <td>2015</td>\n",
       "      <td>153</td>\n",
       "      <td>3.575</td>\n",
       "      <td>0.31982</td>\n",
       "      <td>0.30285</td>\n",
       "      <td>0.30335</td>\n",
       "      <td>0.23414</td>\n",
       "      <td>0.09719</td>\n",
       "      <td>0.36510</td>\n",
       "      <td>1.95210</td>\n",
       "    </tr>\n",
       "    <tr>\n",
       "      <th>1</th>\n",
       "      <td>Albania</td>\n",
       "      <td>Central and Eastern Europe</td>\n",
       "      <td>2015</td>\n",
       "      <td>95</td>\n",
       "      <td>4.959</td>\n",
       "      <td>0.87867</td>\n",
       "      <td>0.80434</td>\n",
       "      <td>0.81325</td>\n",
       "      <td>0.35733</td>\n",
       "      <td>0.06413</td>\n",
       "      <td>0.14272</td>\n",
       "      <td>1.89894</td>\n",
       "    </tr>\n",
       "    <tr>\n",
       "      <th>2</th>\n",
       "      <td>Algeria</td>\n",
       "      <td>Middle East and Northern Africa</td>\n",
       "      <td>2015</td>\n",
       "      <td>68</td>\n",
       "      <td>5.605</td>\n",
       "      <td>0.93929</td>\n",
       "      <td>1.07772</td>\n",
       "      <td>0.61766</td>\n",
       "      <td>0.28579</td>\n",
       "      <td>0.17383</td>\n",
       "      <td>0.07822</td>\n",
       "      <td>2.43209</td>\n",
       "    </tr>\n",
       "    <tr>\n",
       "      <th>3</th>\n",
       "      <td>Angola</td>\n",
       "      <td>Sub-Saharan Africa</td>\n",
       "      <td>2015</td>\n",
       "      <td>137</td>\n",
       "      <td>4.033</td>\n",
       "      <td>0.75778</td>\n",
       "      <td>0.86040</td>\n",
       "      <td>0.16683</td>\n",
       "      <td>0.10384</td>\n",
       "      <td>0.07122</td>\n",
       "      <td>0.12344</td>\n",
       "      <td>1.94939</td>\n",
       "    </tr>\n",
       "    <tr>\n",
       "      <th>4</th>\n",
       "      <td>Argentina</td>\n",
       "      <td>Latin America and Caribbean</td>\n",
       "      <td>2015</td>\n",
       "      <td>30</td>\n",
       "      <td>6.574</td>\n",
       "      <td>1.05351</td>\n",
       "      <td>1.24823</td>\n",
       "      <td>0.78723</td>\n",
       "      <td>0.44974</td>\n",
       "      <td>0.08484</td>\n",
       "      <td>0.11451</td>\n",
       "      <td>2.83600</td>\n",
       "    </tr>\n",
       "  </tbody>\n",
       "</table>\n",
       "</div>"
      ],
      "text/plain": [
       "       Country                           Region  Year  Happiness_rank  \\\n",
       "0  Afghanistan                    Southern Asia  2015             153   \n",
       "1      Albania       Central and Eastern Europe  2015              95   \n",
       "2      Algeria  Middle East and Northern Africa  2015              68   \n",
       "3       Angola               Sub-Saharan Africa  2015             137   \n",
       "4    Argentina      Latin America and Caribbean  2015              30   \n",
       "\n",
       "   Happiness_score  GDP_capita   Family  Life_expectancy  Freedom  Gov_trust  \\\n",
       "0            3.575     0.31982  0.30285          0.30335  0.23414    0.09719   \n",
       "1            4.959     0.87867  0.80434          0.81325  0.35733    0.06413   \n",
       "2            5.605     0.93929  1.07772          0.61766  0.28579    0.17383   \n",
       "3            4.033     0.75778  0.86040          0.16683  0.10384    0.07122   \n",
       "4            6.574     1.05351  1.24823          0.78723  0.44974    0.08484   \n",
       "\n",
       "   Generosity  Dystopia_residual  \n",
       "0     0.36510            1.95210  \n",
       "1     0.14272            1.89894  \n",
       "2     0.07822            2.43209  \n",
       "3     0.12344            1.94939  \n",
       "4     0.11451            2.83600  "
      ]
     },
     "execution_count": 27,
     "metadata": {},
     "output_type": "execute_result"
    }
   ],
   "source": [
    "happiness_merge_all_years.head()"
   ]
  },
  {
   "cell_type": "markdown",
   "id": "c0dedfca",
   "metadata": {},
   "source": [
    "# 03 Consistency Checks"
   ]
  },
  {
   "cell_type": "code",
   "execution_count": 28,
   "id": "641f23e8",
   "metadata": {},
   "outputs": [
    {
     "data": {
      "text/plain": [
       "Country                0\n",
       "Region                 0\n",
       "Year                   0\n",
       "Happiness_rank         0\n",
       "Happiness_score        0\n",
       "GDP_capita             0\n",
       "Family                 0\n",
       "Life_expectancy        0\n",
       "Freedom                0\n",
       "Gov_trust              1\n",
       "Generosity             0\n",
       "Dystopia_residual    312\n",
       "dtype: int64"
      ]
     },
     "execution_count": 28,
     "metadata": {},
     "output_type": "execute_result"
    }
   ],
   "source": [
    "# Checking for missing values\n",
    "happiness_merge_all_years.isnull().sum()"
   ]
  },
  {
   "cell_type": "code",
   "execution_count": 29,
   "id": "2796c20f",
   "metadata": {},
   "outputs": [],
   "source": [
    "# Creating subset of missing gov_trust value\n",
    "df_gov_miss = happiness_merge_all_years[happiness_merge_all_years['Gov_trust'].isnull() == True]"
   ]
  },
  {
   "cell_type": "code",
   "execution_count": 30,
   "id": "b2127702",
   "metadata": {},
   "outputs": [
    {
     "data": {
      "text/html": [
       "<div>\n",
       "<style scoped>\n",
       "    .dataframe tbody tr th:only-of-type {\n",
       "        vertical-align: middle;\n",
       "    }\n",
       "\n",
       "    .dataframe tbody tr th {\n",
       "        vertical-align: top;\n",
       "    }\n",
       "\n",
       "    .dataframe thead th {\n",
       "        text-align: right;\n",
       "    }\n",
       "</style>\n",
       "<table border=\"1\" class=\"dataframe\">\n",
       "  <thead>\n",
       "    <tr style=\"text-align: right;\">\n",
       "      <th></th>\n",
       "      <th>Country</th>\n",
       "      <th>Region</th>\n",
       "      <th>Year</th>\n",
       "      <th>Happiness_rank</th>\n",
       "      <th>Happiness_score</th>\n",
       "      <th>GDP_capita</th>\n",
       "      <th>Family</th>\n",
       "      <th>Life_expectancy</th>\n",
       "      <th>Freedom</th>\n",
       "      <th>Gov_trust</th>\n",
       "      <th>Generosity</th>\n",
       "      <th>Dystopia_residual</th>\n",
       "    </tr>\n",
       "  </thead>\n",
       "  <tbody>\n",
       "    <tr>\n",
       "      <th>616</th>\n",
       "      <td>United Arab Emirates</td>\n",
       "      <td>Middle East and Northern Africa</td>\n",
       "      <td>2018</td>\n",
       "      <td>20</td>\n",
       "      <td>6.774</td>\n",
       "      <td>2.096</td>\n",
       "      <td>0.776</td>\n",
       "      <td>0.67</td>\n",
       "      <td>0.284</td>\n",
       "      <td>NaN</td>\n",
       "      <td>0.186</td>\n",
       "      <td>NaN</td>\n",
       "    </tr>\n",
       "  </tbody>\n",
       "</table>\n",
       "</div>"
      ],
      "text/plain": [
       "                  Country                           Region  Year  \\\n",
       "616  United Arab Emirates  Middle East and Northern Africa  2018   \n",
       "\n",
       "     Happiness_rank  Happiness_score  GDP_capita  Family  Life_expectancy  \\\n",
       "616              20            6.774       2.096   0.776             0.67   \n",
       "\n",
       "     Freedom  Gov_trust  Generosity  Dystopia_residual  \n",
       "616    0.284        NaN       0.186                NaN  "
      ]
     },
     "execution_count": 30,
     "metadata": {},
     "output_type": "execute_result"
    }
   ],
   "source": [
    "df_gov_miss.head()"
   ]
  },
  {
   "cell_type": "markdown",
   "id": "2455e4e8",
   "metadata": {},
   "source": [
    "Chose not to input a value for NaN record"
   ]
  },
  {
   "cell_type": "code",
   "execution_count": 34,
   "id": "a2a58ac6",
   "metadata": {},
   "outputs": [
    {
     "name": "stdout",
     "output_type": "stream",
     "text": [
      "<class 'pandas.core.frame.DataFrame'>\n",
      "RangeIndex: 782 entries, 0 to 781\n",
      "Data columns (total 12 columns):\n",
      " #   Column             Non-Null Count  Dtype  \n",
      "---  ------             --------------  -----  \n",
      " 0   Country            782 non-null    object \n",
      " 1   Region             782 non-null    object \n",
      " 2   Year               782 non-null    int64  \n",
      " 3   Happiness_rank     782 non-null    int64  \n",
      " 4   Happiness_score    782 non-null    float64\n",
      " 5   GDP_capita         782 non-null    float64\n",
      " 6   Family             782 non-null    float64\n",
      " 7   Life_expectancy    782 non-null    float64\n",
      " 8   Freedom            782 non-null    float64\n",
      " 9   Gov_trust          781 non-null    float64\n",
      " 10  Generosity         782 non-null    float64\n",
      " 11  Dystopia_residual  470 non-null    float64\n",
      "dtypes: float64(8), int64(2), object(2)\n",
      "memory usage: 73.4+ KB\n"
     ]
    }
   ],
   "source": [
    "# Checking data types\n",
    "happiness_merge_all_years.info()"
   ]
  },
  {
   "cell_type": "code",
   "execution_count": 35,
   "id": "2d8d00e0",
   "metadata": {},
   "outputs": [],
   "source": [
    "# Checking for duplicates\n",
    "dups = happiness_merge_all_years[happiness_merge_all_years.duplicated()]"
   ]
  },
  {
   "cell_type": "code",
   "execution_count": 37,
   "id": "460a701f",
   "metadata": {},
   "outputs": [
    {
     "data": {
      "text/html": [
       "<div>\n",
       "<style scoped>\n",
       "    .dataframe tbody tr th:only-of-type {\n",
       "        vertical-align: middle;\n",
       "    }\n",
       "\n",
       "    .dataframe tbody tr th {\n",
       "        vertical-align: top;\n",
       "    }\n",
       "\n",
       "    .dataframe thead th {\n",
       "        text-align: right;\n",
       "    }\n",
       "</style>\n",
       "<table border=\"1\" class=\"dataframe\">\n",
       "  <thead>\n",
       "    <tr style=\"text-align: right;\">\n",
       "      <th></th>\n",
       "      <th>Country</th>\n",
       "      <th>Region</th>\n",
       "      <th>Year</th>\n",
       "      <th>Happiness_rank</th>\n",
       "      <th>Happiness_score</th>\n",
       "      <th>GDP_capita</th>\n",
       "      <th>Family</th>\n",
       "      <th>Life_expectancy</th>\n",
       "      <th>Freedom</th>\n",
       "      <th>Gov_trust</th>\n",
       "      <th>Generosity</th>\n",
       "      <th>Dystopia_residual</th>\n",
       "    </tr>\n",
       "  </thead>\n",
       "  <tbody>\n",
       "  </tbody>\n",
       "</table>\n",
       "</div>"
      ],
      "text/plain": [
       "Empty DataFrame\n",
       "Columns: [Country, Region, Year, Happiness_rank, Happiness_score, GDP_capita, Family, Life_expectancy, Freedom, Gov_trust, Generosity, Dystopia_residual]\n",
       "Index: []"
      ]
     },
     "execution_count": 37,
     "metadata": {},
     "output_type": "execute_result"
    }
   ],
   "source": [
    "dups.head()"
   ]
  },
  {
   "cell_type": "markdown",
   "id": "d10a9673",
   "metadata": {},
   "source": [
    "# 04 Descriptive Statistics"
   ]
  },
  {
   "cell_type": "code",
   "execution_count": 38,
   "id": "628422ac",
   "metadata": {},
   "outputs": [
    {
     "data": {
      "text/html": [
       "<div>\n",
       "<style scoped>\n",
       "    .dataframe tbody tr th:only-of-type {\n",
       "        vertical-align: middle;\n",
       "    }\n",
       "\n",
       "    .dataframe tbody tr th {\n",
       "        vertical-align: top;\n",
       "    }\n",
       "\n",
       "    .dataframe thead th {\n",
       "        text-align: right;\n",
       "    }\n",
       "</style>\n",
       "<table border=\"1\" class=\"dataframe\">\n",
       "  <thead>\n",
       "    <tr style=\"text-align: right;\">\n",
       "      <th></th>\n",
       "      <th>Year</th>\n",
       "      <th>Happiness_rank</th>\n",
       "      <th>Happiness_score</th>\n",
       "      <th>GDP_capita</th>\n",
       "      <th>Family</th>\n",
       "      <th>Life_expectancy</th>\n",
       "      <th>Freedom</th>\n",
       "      <th>Gov_trust</th>\n",
       "      <th>Generosity</th>\n",
       "      <th>Dystopia_residual</th>\n",
       "    </tr>\n",
       "  </thead>\n",
       "  <tbody>\n",
       "    <tr>\n",
       "      <th>count</th>\n",
       "      <td>782.000000</td>\n",
       "      <td>782.000000</td>\n",
       "      <td>782.000000</td>\n",
       "      <td>782.000000</td>\n",
       "      <td>782.000000</td>\n",
       "      <td>782.000000</td>\n",
       "      <td>782.000000</td>\n",
       "      <td>781.000000</td>\n",
       "      <td>782.000000</td>\n",
       "      <td>470.000000</td>\n",
       "    </tr>\n",
       "    <tr>\n",
       "      <th>mean</th>\n",
       "      <td>2016.993606</td>\n",
       "      <td>78.698210</td>\n",
       "      <td>5.379018</td>\n",
       "      <td>0.916047</td>\n",
       "      <td>1.078392</td>\n",
       "      <td>0.612416</td>\n",
       "      <td>0.411091</td>\n",
       "      <td>0.125436</td>\n",
       "      <td>0.218576</td>\n",
       "      <td>2.092717</td>\n",
       "    </tr>\n",
       "    <tr>\n",
       "      <th>std</th>\n",
       "      <td>1.417364</td>\n",
       "      <td>45.182384</td>\n",
       "      <td>1.127456</td>\n",
       "      <td>0.407340</td>\n",
       "      <td>0.329548</td>\n",
       "      <td>0.248309</td>\n",
       "      <td>0.152880</td>\n",
       "      <td>0.105816</td>\n",
       "      <td>0.122321</td>\n",
       "      <td>0.565772</td>\n",
       "    </tr>\n",
       "    <tr>\n",
       "      <th>min</th>\n",
       "      <td>2015.000000</td>\n",
       "      <td>1.000000</td>\n",
       "      <td>2.693000</td>\n",
       "      <td>0.000000</td>\n",
       "      <td>0.000000</td>\n",
       "      <td>0.000000</td>\n",
       "      <td>0.000000</td>\n",
       "      <td>0.000000</td>\n",
       "      <td>0.000000</td>\n",
       "      <td>0.328580</td>\n",
       "    </tr>\n",
       "    <tr>\n",
       "      <th>25%</th>\n",
       "      <td>2016.000000</td>\n",
       "      <td>40.000000</td>\n",
       "      <td>4.509750</td>\n",
       "      <td>0.606500</td>\n",
       "      <td>0.869363</td>\n",
       "      <td>0.440183</td>\n",
       "      <td>0.309768</td>\n",
       "      <td>0.054000</td>\n",
       "      <td>0.130000</td>\n",
       "      <td>1.737975</td>\n",
       "    </tr>\n",
       "    <tr>\n",
       "      <th>50%</th>\n",
       "      <td>2017.000000</td>\n",
       "      <td>79.000000</td>\n",
       "      <td>5.322000</td>\n",
       "      <td>0.982205</td>\n",
       "      <td>1.124735</td>\n",
       "      <td>0.647310</td>\n",
       "      <td>0.431000</td>\n",
       "      <td>0.091000</td>\n",
       "      <td>0.201982</td>\n",
       "      <td>2.094640</td>\n",
       "    </tr>\n",
       "    <tr>\n",
       "      <th>75%</th>\n",
       "      <td>2018.000000</td>\n",
       "      <td>118.000000</td>\n",
       "      <td>6.189500</td>\n",
       "      <td>1.236187</td>\n",
       "      <td>1.327250</td>\n",
       "      <td>0.808000</td>\n",
       "      <td>0.531000</td>\n",
       "      <td>0.156030</td>\n",
       "      <td>0.278832</td>\n",
       "      <td>2.455575</td>\n",
       "    </tr>\n",
       "    <tr>\n",
       "      <th>max</th>\n",
       "      <td>2019.000000</td>\n",
       "      <td>158.000000</td>\n",
       "      <td>7.769000</td>\n",
       "      <td>2.096000</td>\n",
       "      <td>1.644000</td>\n",
       "      <td>1.141000</td>\n",
       "      <td>0.724000</td>\n",
       "      <td>0.551910</td>\n",
       "      <td>0.838075</td>\n",
       "      <td>3.837720</td>\n",
       "    </tr>\n",
       "  </tbody>\n",
       "</table>\n",
       "</div>"
      ],
      "text/plain": [
       "              Year  Happiness_rank  Happiness_score  GDP_capita      Family  \\\n",
       "count   782.000000      782.000000       782.000000  782.000000  782.000000   \n",
       "mean   2016.993606       78.698210         5.379018    0.916047    1.078392   \n",
       "std       1.417364       45.182384         1.127456    0.407340    0.329548   \n",
       "min    2015.000000        1.000000         2.693000    0.000000    0.000000   \n",
       "25%    2016.000000       40.000000         4.509750    0.606500    0.869363   \n",
       "50%    2017.000000       79.000000         5.322000    0.982205    1.124735   \n",
       "75%    2018.000000      118.000000         6.189500    1.236187    1.327250   \n",
       "max    2019.000000      158.000000         7.769000    2.096000    1.644000   \n",
       "\n",
       "       Life_expectancy     Freedom   Gov_trust  Generosity  Dystopia_residual  \n",
       "count       782.000000  782.000000  781.000000  782.000000         470.000000  \n",
       "mean          0.612416    0.411091    0.125436    0.218576           2.092717  \n",
       "std           0.248309    0.152880    0.105816    0.122321           0.565772  \n",
       "min           0.000000    0.000000    0.000000    0.000000           0.328580  \n",
       "25%           0.440183    0.309768    0.054000    0.130000           1.737975  \n",
       "50%           0.647310    0.431000    0.091000    0.201982           2.094640  \n",
       "75%           0.808000    0.531000    0.156030    0.278832           2.455575  \n",
       "max           1.141000    0.724000    0.551910    0.838075           3.837720  "
      ]
     },
     "execution_count": 38,
     "metadata": {},
     "output_type": "execute_result"
    }
   ],
   "source": [
    "happiness_merge_all_years.describe()"
   ]
  },
  {
   "cell_type": "markdown",
   "id": "0da91973",
   "metadata": {},
   "source": [
    "# 05 Exporting Cleaned & Combined Data Set"
   ]
  },
  {
   "cell_type": "code",
   "execution_count": 39,
   "id": "1bb479f3",
   "metadata": {},
   "outputs": [],
   "source": [
    "# Exporting to CSV File\n",
    "happiness_merge_all_years.to_csv(os.path.join(path, '02 Data','Prepared Data', 'Happiness_merge_all_years.csv'))"
   ]
  },
  {
   "cell_type": "code",
   "execution_count": null,
   "id": "6f5b4202",
   "metadata": {},
   "outputs": [],
   "source": []
  }
 ],
 "metadata": {
  "kernelspec": {
   "display_name": "Python 3 (ipykernel)",
   "language": "python",
   "name": "python3"
  },
  "language_info": {
   "codemirror_mode": {
    "name": "ipython",
    "version": 3
   },
   "file_extension": ".py",
   "mimetype": "text/x-python",
   "name": "python",
   "nbconvert_exporter": "python",
   "pygments_lexer": "ipython3",
   "version": "3.11.4"
  }
 },
 "nbformat": 4,
 "nbformat_minor": 5
}
